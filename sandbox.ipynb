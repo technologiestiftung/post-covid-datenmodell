{
 "cells": [
  {
   "cell_type": "code",
   "execution_count": 9,
   "metadata": {},
   "outputs": [],
   "source": [
    "import json\n",
    "import requests\n",
    "import math\n",
    "import geopandas as gpd\n",
    "import pandas as pd"
   ]
  },
  {
   "cell_type": "code",
   "execution_count": null,
   "metadata": {},
   "outputs": [],
   "source": []
  },
  {
   "cell_type": "code",
   "execution_count": 157,
   "metadata": {},
   "outputs": [],
   "source": [
    "f = open('/Users/friederikebauer/Developer/post-covid-metadatenkatalog/mii-testdaten/Bundle1.json',)\n",
    "data = json.load(f)"
   ]
  },
  {
   "cell_type": "code",
   "execution_count": null,
   "metadata": {},
   "outputs": [],
   "source": [
    "# todo: do I need Address class\n",
    "class Address: \n",
    "    def __init__(self):\n",
    "        country: str | None = None\n",
    "        federal_state: str | None = None\n",
    "        city: str | None = None\n",
    "        postal_code: str | None = None\n",
    "        street: str | None = None\n",
    "\n",
    "# todo: oder Klasse definieren wie wir denken es kommt raus aus den Daten? Hier eher Ziel-Datenstruktur definiert\n",
    "class Patient: \n",
    "    def __init__(self):\n",
    "        patient_id: str | None = None\n",
    "        birth_date: str | None = None\n",
    "        # address\n",
    "        country: str | None = None\n",
    "        federal_state: str | None = None\n",
    "        city: str | None = None\n",
    "        postal_code: str | None = None\n",
    "        street: str | None = None\n",
    "        encounter: str | None = None  #todo: make encounter class?\n",
    "        condition: str | None = None\n",
    "\n",
    "\n",
    "\n",
    "class PatientCollection: \n",
    "    # todo: method um alle Zusatz-Infos zu extrahieren?\n",
    "    # todo: macht es sinn eine PatientCollection klasse zu haben?\n",
    "    def __init__(self):\n",
    "        self._patients: list[Patient] = []\n",
    "\n",
    "\n",
    "    def extract_patients(self, data):\n",
    "        patients: list[Patient] = []\n",
    "\n",
    "        # filter out patients + their relevant data + set up initial patients collection\n",
    "        for el in data[\"entry\"]:\n",
    "            resource = el[\"resource\"][\"resourceType\"]\n",
    "            \n",
    "            if resource == \"Patient\":\n",
    "                patient = Patient()\n",
    "                try: \n",
    "                    patient.patient_id = el[\"resource\"][\"id\"]\n",
    "                    patient.birth_date = el[\"resource\"][\"birthDate\"]\n",
    "\n",
    "                except KeyError: \n",
    "                    print(\"Error: Basic Patient data incomplete\")\n",
    "                    continue\n",
    "                \n",
    "                # add address data\n",
    "                try: \n",
    "                    patient.country =  el[\"resource\"][\"address\"][0].get(\"country\", None)  # returns country and if country not there returns None\n",
    "                    patient.federal_state = el[\"resource\"][\"address\"][0].get(\"state\", None)\n",
    "                    patient.city = el[\"resource\"][\"address\"][0].get(\"city\", None)\n",
    "                    patient.postal_code = el[\"resource\"][\"address\"][0].get(\"postalCode\", None)\n",
    "\n",
    "                except KeyError: \n",
    "                    print(\"Error: Patient Address data incomplete\")\n",
    "                    continue\n",
    "\n",
    "                # patient street is accessed differently as it is mostly not given -> if it fails all other address elements fail\n",
    "                try: \n",
    "                    patient.street = el[\"resource\"][\"address\"][0][\"line\"][0]\n",
    "                except KeyError: \n",
    "                    print(\"Error: Patient Street data incomplete\")\n",
    "                    continue\n",
    "\n",
    "                \n",
    "                \n",
    "                self._patients.append(patient)\n",
    "\n",
    "    def extract_patient_encounter_info(self, data):\n",
    "        for el in data[\"entry\"]:\n",
    "\n",
    "            # ENCOUNTER\n",
    "            if el[\"resource\"][\"resourceType\"] == \"Encounter\":\n",
    "                encounter_patient_id = el[\"resource\"][\"subject\"][\"reference\"].split(\"/\")[1] # string = Patient/{id}\n",
    "                for patient in self._patients: # find patient with id + add info to him\n",
    "                    if patient.patient_id == encounter_patient_id:\n",
    "                        try: \n",
    "                            patient.encounter = el[\"resource\"][\"type\"][0][\"coding\"][0][\"display\"]\n",
    "                        except: \n",
    "                            print(el[\"resource\"])\n",
    "                            print(\"Encounter data incomplete\")\n",
    "                            continue\n",
    "\n",
    "\n",
    "    # todo: sind wir auch an den ids der conditions interessiert?\n",
    "    def extract_patient_condition(self, data):\n",
    "        for el in data[\"entry\"]:\n",
    "\n",
    "            # CONDITION\n",
    "            if el[\"resource\"][\"resourceType\"] == \"Condition\":\n",
    "                condition_patient_id = el[\"resource\"][\"subject\"][\"reference\"].split(\"/\")[1] # string = Patient/{id}\n",
    "                for patient in self._patients:\n",
    "                    if patient.patient_id == condition_patient_id:\n",
    "                        try: \n",
    "                            patient.condition = el[\"resource\"][\"code\"][\"coding\"][0][\"display\"]\n",
    "                        except: \n",
    "                            print(\"Condition data incomplete\")\n",
    "                            continue\n",
    "\n",
    "\n",
    "    # allow direct access to patients           \n",
    "    def __getitem__(self, index):\n",
    "        return self._patients[index]\n",
    "        \n",
    "    def __len__(self):\n",
    "        return len(self._patients)\n",
    "        \n",
    "# todo: macht es Sinn eine Patients klasse zu bauen? und dann dort die methode um patients zu extrahieren\n"
   ]
  },
  {
   "cell_type": "code",
   "execution_count": 163,
   "metadata": {},
   "outputs": [
    {
     "name": "stdout",
     "output_type": "stream",
     "text": [
      "Error: Patient Street data incomplete\n",
      "{'resourceType': 'Encounter', 'id': '591', 'meta': {'versionId': '1', 'lastUpdated': '2024-11-07T08:02:52.619+00:00', 'source': '#aI3qAal5bS5VepYV', 'profile': ['https://www.medizininformatik-initiative.de/fhir/core/modul-fall/StructureDefinition/KontaktGesundheitseinrichtung']}, 'status': 'unknown', 'class': {'system': 'http://terminology.hl7.org/CodeSystem/v3-ActCode', 'code': 'IMP', 'display': 'inpatient encounter'}, 'subject': {'reference': 'Patient/590'}, 'period': {'start': '2023-06-14'}}\n",
      "Encounter data incomplete\n",
      "{'resourceType': 'Encounter', 'id': '596', 'meta': {'versionId': '1', 'lastUpdated': '2024-11-07T08:02:52.619+00:00', 'source': '#aI3qAal5bS5VepYV', 'profile': ['https://www.medizininformatik-initiative.de/fhir/core/modul-fall/StructureDefinition/KontaktGesundheitseinrichtung']}, 'status': 'unknown', 'class': {'system': 'http://terminology.hl7.org/CodeSystem/v3-ActCode', 'code': 'IMP', 'display': 'inpatient encounter'}, 'subject': {'reference': 'Patient/595'}, 'period': {'start': '2023-07-20'}}\n",
      "Encounter data incomplete\n",
      "{'resourceType': 'Encounter', 'id': '601', 'meta': {'versionId': '1', 'lastUpdated': '2024-11-07T08:02:52.619+00:00', 'source': '#aI3qAal5bS5VepYV', 'profile': ['https://www.medizininformatik-initiative.de/fhir/core/modul-fall/StructureDefinition/KontaktGesundheitseinrichtung|2025.0.0']}, 'status': 'unknown', 'class': {'system': 'http://terminology.hl7.org/CodeSystem/v3-ActCode', 'code': 'IMP', 'display': 'inpatient encounter'}, 'subject': {'reference': 'Patient/600'}, 'period': {'start': '2023-06-17'}}\n",
      "Encounter data incomplete\n"
     ]
    }
   ],
   "source": [
    "# init PatientCollection + access patients\n",
    "patients = PatientCollection()\n",
    "patients.extract_patients(data)\n",
    "patients.extract_patient_encounter_info(data)\n",
    "patients.extract_patient_condition(data)"
   ]
  },
  {
   "cell_type": "code",
   "execution_count": null,
   "metadata": {},
   "outputs": [
    {
     "data": {
      "text/plain": [
       "{'patient_id': '595',\n",
       " 'birth_date': '1980-05-18',\n",
       " 'country': 'DE',\n",
       " 'federal_state': 'DE-BE',\n",
       " 'city': 'Berlin',\n",
       " 'postal_code': '10435',\n",
       " 'street': 'Wollinerstr. 5',\n",
       " 'condition': 'COVID-19, virus identified'}"
      ]
     },
     "execution_count": 161,
     "metadata": {},
     "output_type": "execute_result"
    }
   ],
   "source": [
    "# accessing patients direcly\n",
    "patients[1].__dict__\n"
   ]
  },
  {
   "cell_type": "markdown",
   "metadata": {},
   "source": [
    "# Luftdaten - API\n",
    "- check: Daten bevor 2016 nicht verfügbar"
   ]
  },
  {
   "cell_type": "code",
   "execution_count": null,
   "metadata": {},
   "outputs": [],
   "source": [
    "# 1) get all stations\n",
    "\n",
    "# 2) calculate closest station to patient home address\n",
    "\n",
    "# 3) request data on closest stations"
   ]
  },
  {
   "cell_type": "code",
   "execution_count": null,
   "metadata": {},
   "outputs": [],
   "source": [
    "# 1) GET ALL STATIONS\n",
    "\n",
    "# Define the URL for the API endpoint\n",
    "# todo: check again from where we want the stations (date, time, etc, )\n",
    "url = \"https://www.umweltbundesamt.de/api/air_data/v3/stations/json?use=airquality&lang=de&date_from=2019-01-01&date_to=2019-01-01&time_from=9&time_to=9\"\n",
    "\n",
    "response = requests.get(url)\n",
    "response_data = response.json()\n",
    "len(response_data[\"data\"])"
   ]
  },
  {
   "cell_type": "code",
   "execution_count": 186,
   "metadata": {},
   "outputs": [],
   "source": [
    "stations = []\n",
    "\n",
    "for key, value in response_data[\"data\"].items():\n",
    "    stations.append({\n",
    "    \"id\": value[0],\n",
    "    \"code\": value[1],\n",
    "    \"name\": value[2], \n",
    "    \"longitude\": value[7], \n",
    "    \"latitude\": value[8]})"
   ]
  },
  {
   "cell_type": "code",
   "execution_count": null,
   "metadata": {},
   "outputs": [
    {
     "data": {
      "text/plain": [
       "{'station': {'id': '58',\n",
       "  'code': 'DEBB060',\n",
       "  'name': 'Eberswalde, Breite Straße',\n",
       "  'longitude': '13.8222',\n",
       "  'latitude': '52.8325'},\n",
       " 'distance': 25.981318987891243}"
      ]
     },
     "execution_count": 188,
     "metadata": {},
     "output_type": "execute_result"
    }
   ],
   "source": [
    "# 2) CALCULATE CLOSEST STATION TO PATIENT HOME ADDRESS\n",
    "\n",
    "\n",
    "# todo: add imlementation with haversine directly from this package: https://pypi.org/project/haversine/\n",
    "\n",
    "def get_distance_from_lat_lon(lat_location, lon_location, lat_station, lon_station):\n",
    "    R = 6371  # Radius of the Earth in km\n",
    "    # Convert degrees to radians\n",
    "    dLat = math.radians(lat_station - lat_location)\n",
    "    dLon = math.radians(lon_station - lon_location)\n",
    "    \n",
    "    # Haversine formula\n",
    "    a = (math.sin(dLat / 2) ** 2 + \n",
    "         math.cos(math.radians(lat_location)) * math.cos(math.radians(lat_station)) * \n",
    "         math.sin(dLon / 2) ** 2)\n",
    "    \n",
    "    c = 2 * math.atan2(math.sqrt(a), math.sqrt(1 - a))\n",
    "    \n",
    "    distance = R * c # Distance in km\n",
    "    return distance\n",
    "\n",
    "\n",
    "def get_closest_station(lat, long):\n",
    "    # function uses the haverstine calculation\n",
    "    closest_station = None\n",
    "\n",
    "    for station in stations: \n",
    "        station_lat = float(station[\"latitude\"])\n",
    "        station_long = float(station[\"longitude\"])\n",
    "\n",
    "        distance = get_distance_from_lat_lon(lat, long, station_lat, station_long)\n",
    "        if closest_station is None or distance < closest_station[\"distance\"]:\n",
    "            closest_station = {\n",
    "                \"station\": station,\n",
    "                \"distance\": distance\n",
    "            }\n",
    "    return closest_station\n",
    "\n",
    "# closest = get_closest_station(lat= 48.808660, long=9.220560) # stuttgart - bad cannstatt\n",
    "closest = get_closest_station(lat = 52.9357426, long = 13.4748363) # pasteurstrasse - berlin\n",
    "closest"
   ]
  },
  {
   "cell_type": "code",
   "execution_count": 205,
   "metadata": {},
   "outputs": [],
   "source": [
    "#3) REQUEST DATA ON CLOSEST STATIONS\n",
    "# what are we interested in?\n",
    "# - time-frame\n",
    "# do we want the time series? the mean value? the median?\n",
    "# -> add options to the function to calculate different values\n",
    "\n",
    "\n",
    "# todo: we will disregard time in the day? -> calculcate back 6 months, to the front 6 months\n",
    "\n",
    "# it returns air quality index\n",
    "def get_station_index(station_id: str, start_date: str, end_date: str):\n",
    "    request_url = f\"https://www.umweltbundesamt.de/api/air_data/v3/airquality/json?date_from={start_date}&time_from=1&date_to={end_date}&time_to=24&station={station_id}\"\n",
    "    response = requests.get(request_url)\n",
    "    response_data = response.json()\n",
    "    \n",
    "    return response_data\n",
    "\n",
    "\n",
    "# components = Schadstoffe, z.B. Ozon (id=3)\n",
    "# scope = z.B. Tagesmittel (id=1)\n",
    "def get_station_data(station_id: str, start_date: str, end_date: str, component_id: int, scope_id: int):\n",
    "    request_url = f\"https://www.umweltbundesamt.de/api/air_data/v3/measures/json?date_from={start_date}&time_from=1&date_to={end_date}&time_to=24&station={station_id}&component={component_id}&scope={scope_id}\"\n",
    "    response = requests.get(request_url)\n",
    "    response_data = response.json()\n",
    "    return response_data\n",
    "\n",
    "\n"
   ]
  },
  {
   "cell_type": "code",
   "execution_count": 206,
   "metadata": {},
   "outputs": [],
   "source": [
    "# AIR QUALITY TRIAL\n",
    "closest_station_index = get_station_index(station_id = closest[\"station\"][\"id\"], start_date =  \"2019-01-01\", end_date = \"2019-01-01\")\n",
    "# closest_station_index[\"data\"] \n",
    "# -> todo: gives me back hourly data for the day"
   ]
  },
  {
   "cell_type": "code",
   "execution_count": null,
   "metadata": {},
   "outputs": [
    {
     "data": {
      "text/plain": [
       "{'request': {'component': '1',\n",
       "  'scope': '1',\n",
       "  'station': '58',\n",
       "  'date_from': '2019-01-01',\n",
       "  'date_to': '2019-01-01',\n",
       "  'time_from': '01:00:00',\n",
       "  'time_to': '24:00:00',\n",
       "  'index': 'id',\n",
       "  'lang': 'en',\n",
       "  'datetime_from': '2019-01-01 00:00:00',\n",
       "  'datetime_to': '2019-01-01 23:00:00'},\n",
       " 'indices': {'data': {'station id': {'date start': ['0: Id of component - integer',\n",
       "     '1: Id of scope - integer',\n",
       "     '2: Value - number',\n",
       "     '3: Date of measure end - string',\n",
       "     '4: Index - string|null']}}},\n",
       " 'data': {'58': {'2019-01-01 11:00:00': [1,\n",
       "    1,\n",
       "    10,\n",
       "    '2019-01-01 12:00:00',\n",
       "    '1']}}}"
      ]
     },
     "execution_count": 209,
     "metadata": {},
     "output_type": "execute_result"
    }
   ],
   "source": [
    "# AIR DATA TRIAL\n",
    "closest_station_data = get_station_data(station_id = closest[\"station\"][\"id\"], \n",
    "                                        start_date = \"2019-01-01\", \n",
    "                                        end_date = \"2019-01-01\", \n",
    "                                        component_id = 1, \n",
    "                                        scope_id = 1)\n",
    "\n",
    "closest_station_data\n",
    "# todo: nicht für alle component_id und scope_id gibt es daten -> abfangen wenn es keine Daten gibt"
   ]
  },
  {
   "cell_type": "code",
   "execution_count": 208,
   "metadata": {},
   "outputs": [
    {
     "data": {
      "text/plain": [
       "'58'"
      ]
     },
     "execution_count": 208,
     "metadata": {},
     "output_type": "execute_result"
    }
   ],
   "source": [
    "closest[\"station\"][\"id\"]"
   ]
  },
  {
   "cell_type": "markdown",
   "metadata": {},
   "source": [
    "# Data exploration"
   ]
  },
  {
   "cell_type": "code",
   "execution_count": null,
   "metadata": {},
   "outputs": [
    {
     "name": "stdout",
     "output_type": "stream",
     "text": [
      "{'resourceType': 'Encounter', 'id': '585', 'meta': {'versionId': '1', 'lastUpdated': '2024-11-07T08:02:52.619+00:00', 'source': '#aI3qAal5bS5VepYV', 'profile': ['https://www.medizininformatik-initiative.de/fhir/core/modul-fall/StructureDefinition/KontaktGesundheitseinrichtung']}, 'status': 'in-progress', 'class': {'system': 'http://terminology.hl7.org/CodeSystem/v3-ActCode', 'code': 'IMP', 'display': 'inpatient encounter'}, 'type': [{'coding': [{'system': 'http://snomed.info/sct', 'code': '3390906007', 'display': 'Follow-up encounter '}]}], 'subject': {'reference': 'Patient/584'}, 'period': {'start': '2022-10-01T10:00:00Z'}}\n",
      "{'resourceType': 'MedicationStatement', 'id': '589', 'meta': {'versionId': '1', 'lastUpdated': '2024-11-07T08:02:52.619+00:00', 'source': '#aI3qAal5bS5VepYV', 'profile': ['https://www.medizininformatik-initiative.de/fhir/core/modul-medikation/StructureDefinition/MedicationStatement']}, 'status': 'active', 'medicationCodeableConcept': {'coding': [{'system': 'http://www.nlm.nih.gov/research/umls/rxnorm', 'code': '860975', 'display': 'Fluoxetine 20 mg'}]}, 'subject': {'reference': 'Patient/584'}, 'effectivePeriod': {'start': '2024-08-01'}, 'dosage': [{'text': 'Once daily in the morning', 'timing': {'repeat': {'frequency': 1, 'period': 1, 'periodUnit': 'd'}}, 'doseAndRate': [{'doseQuantity': {'value': 20, 'unit': 'mg', 'system': 'http://unitsofmeasure.org', 'code': 'milligram'}}]}]}\n",
      "{'resourceType': 'Encounter', 'id': '591', 'meta': {'versionId': '1', 'lastUpdated': '2024-11-07T08:02:52.619+00:00', 'source': '#aI3qAal5bS5VepYV', 'profile': ['https://www.medizininformatik-initiative.de/fhir/core/modul-fall/StructureDefinition/KontaktGesundheitseinrichtung']}, 'status': 'unknown', 'class': {'system': 'http://terminology.hl7.org/CodeSystem/v3-ActCode', 'code': 'IMP', 'display': 'inpatient encounter'}, 'subject': {'reference': 'Patient/590'}, 'period': {'start': '2023-06-14'}}\n",
      "{'resourceType': 'MedicationStatement', 'id': '594', 'meta': {'versionId': '1', 'lastUpdated': '2024-11-07T08:02:52.619+00:00', 'source': '#aI3qAal5bS5VepYV', 'profile': ['https://www.medizininformatik-initiative.de/fhir/core/modul-medikation/StructureDefinition/MedicationStatement']}, 'status': 'intended', 'medicationCodeableConcept': {'coding': [{'system': 'http://fhir.de/CodeSystem/bfarm/atc', 'version': '2022', 'code': 'M01AE01'}], 'text': 'Ibuprofen 400mg'}, 'subject': {'reference': 'Patient/590'}, 'effectivePeriod': {'start': '2023-06-15T08:22:00+00:00'}, 'dosage': [{'text': 'Ibuprofen 400mg Tabl. 3x1 bei Bedarf (Kopfschmerzen)', 'timing': {'repeat': {'boundsPeriod': {'start': '2023-06-15T09:00:00+00:00'}, 'frequency': 3, 'period': 1, 'periodUnit': 'd'}}, 'asNeededBoolean': True, 'doseAndRate': [{'doseQuantity': {'value': 1, 'unit': '1', 'system': 'http://unitsofmeasure.org', 'code': '{Stueck}'}}]}]}\n",
      "{'resourceType': 'Encounter', 'id': '596', 'meta': {'versionId': '1', 'lastUpdated': '2024-11-07T08:02:52.619+00:00', 'source': '#aI3qAal5bS5VepYV', 'profile': ['https://www.medizininformatik-initiative.de/fhir/core/modul-fall/StructureDefinition/KontaktGesundheitseinrichtung']}, 'status': 'unknown', 'class': {'system': 'http://terminology.hl7.org/CodeSystem/v3-ActCode', 'code': 'IMP', 'display': 'inpatient encounter'}, 'subject': {'reference': 'Patient/595'}, 'period': {'start': '2023-07-20'}}\n",
      "{'resourceType': 'MedicationStatement', 'id': '599', 'meta': {'versionId': '1', 'lastUpdated': '2024-11-07T08:02:52.619+00:00', 'source': '#aI3qAal5bS5VepYV', 'profile': ['https://www.medizininformatik-initiative.de/fhir/core/modul-medikation/StructureDefinition/MedicationStatement']}, 'status': 'intended', 'medicationCodeableConcept': {'coding': [{'system': 'http://fhir.de/CodeSystem/bfarm/atc', 'version': '2024', 'code': 'B01AB01'}], 'text': 'Heparin'}, 'subject': {'reference': 'Patient/595'}, 'effectivePeriod': {'start': '2023-07-20T08:22:00+00:00'}, 'dosage': [{'text': 'Heparin 3x1', 'timing': {'repeat': {'boundsPeriod': {'start': '2023-07-20T09:00:00+00:00'}, 'frequency': 3, 'period': 1, 'periodUnit': 'd'}}, 'asNeededBoolean': True, 'doseAndRate': [{'doseQuantity': {'value': 1, 'unit': '1', 'system': 'http://unitsofmeasure.org', 'code': '{Stueck}'}}]}]}\n",
      "{'resourceType': 'Encounter', 'id': '601', 'meta': {'versionId': '1', 'lastUpdated': '2024-11-07T08:02:52.619+00:00', 'source': '#aI3qAal5bS5VepYV', 'profile': ['https://www.medizininformatik-initiative.de/fhir/core/modul-fall/StructureDefinition/KontaktGesundheitseinrichtung|2025.0.0']}, 'status': 'unknown', 'class': {'system': 'http://terminology.hl7.org/CodeSystem/v3-ActCode', 'code': 'IMP', 'display': 'inpatient encounter'}, 'subject': {'reference': 'Patient/600'}, 'period': {'start': '2023-06-17'}}\n",
      "{'resourceType': 'MedicationStatement', 'id': '604', 'meta': {'versionId': '1', 'lastUpdated': '2024-11-07T08:02:52.619+00:00', 'source': '#aI3qAal5bS5VepYV', 'profile': ['https://www.medizininformatik-initiative.de/fhir/core/modul-medikation/StructureDefinition/MedicationStatement']}, 'status': 'intended', 'medicationCodeableConcept': {'coding': [{'system': 'http://fhir.de/CodeSystem/bfarm/atc', 'version': '2024', 'code': 'B01AB01'}], 'text': 'Heparin'}, 'subject': {'reference': 'Patient/600'}, 'effectivePeriod': {'start': '2023-06-18T08:22:00+00:00'}, 'dosage': [{'text': 'Heparin 3x1', 'timing': {'repeat': {'boundsPeriod': {'start': '2023-06-18T09:00:00+00:00'}, 'frequency': 3, 'period': 1, 'periodUnit': 'd'}}, 'asNeededBoolean': True, 'doseAndRate': [{'doseQuantity': {'value': 1, 'unit': '1', 'system': 'http://unitsofmeasure.org', 'code': '{Stueck}'}}]}]}\n"
     ]
    },
    {
     "data": {
      "text/plain": [
       "'resourceType(s):\\n- Patient\\n- Encounter\\n- Procedure\\n- Condition\\n- MedicationStatement\\n'"
      ]
     },
     "execution_count": 33,
     "metadata": {},
     "output_type": "execute_result"
    }
   ],
   "source": [
    "# WELCHE DATEN SIND RELEVANT? WELCHE DATEN SIND VORHANDEN?\n",
    "\n",
    "for el in data[\"entry\"]:\n",
    "    resource = el[\"resource\"][\"resourceType\"]\n",
    "    if resource == \"Patient\":\n",
    "        pass\n",
    "        # print(el[\"resource\"])\n",
    "        '''\n",
    "        address: \n",
    "        - city\n",
    "        - postal code\n",
    "        - country\n",
    "        - state\n",
    "        '''\n",
    "        # straße -> 'type': 'both', 'line': ['Berliner Str. 1'], \n",
    "        # abkürzungen bundesland -> https://www.destatis.de/DE/Methoden/abkuerzung-bundeslaender-DE-EN.html\n",
    "\n",
    "    elif resource == \"Encounter\":\n",
    "        print(el[\"resource\"])\n",
    "        # pass\n",
    "        # print(el[\"resource\"])\n",
    "        # subject[\"reference\"] enthält 'Patient/XXX'\n",
    "        # id, meta, status, class, type, subject, period\n",
    "\n",
    "    elif resource == \"Procedure\":\n",
    "        # status = [completed, in-progress]\n",
    "        # id mapping to patient: subject[\"reference\"] enthält 'Patient/XXX'\n",
    "        # id, meta, status, category, code, subject, performedDateTime, bodySite, note\n",
    "        # note[\"text\"] shows additional information\n",
    "        pass\n",
    "        # print(el[\"resource\"])\n",
    "\n",
    "    elif resource == \"Condition\":\n",
    "        # print(el[\"resource\"])\n",
    "        # id mapping to patient: subject[\"reference\"] enthält 'Patient/XXX'\n",
    "        pass\n",
    "\n",
    "    elif resource == \"MedicationStatement\":\n",
    "        print(el[\"resource\"])\n",
    "        pass\n",
    "\n",
    "    else: raise ValueError(\"New Ressource Type\")\n",
    "\n",
    "\n",
    "'''resourceType(s):\n",
    "- Patient\n",
    "- Encounter\n",
    "- Procedure\n",
    "- Condition\n",
    "- MedicationStatement\n",
    "'''"
   ]
  }
 ],
 "metadata": {
  "kernelspec": {
   "display_name": "dosta-family-compatability-extractor-eWFQ9Bif-py3.11",
   "language": "python",
   "name": "python3"
  },
  "language_info": {
   "codemirror_mode": {
    "name": "ipython",
    "version": 3
   },
   "file_extension": ".py",
   "mimetype": "text/x-python",
   "name": "python",
   "nbconvert_exporter": "python",
   "pygments_lexer": "ipython3",
   "version": "3.11.6"
  }
 },
 "nbformat": 4,
 "nbformat_minor": 2
}
