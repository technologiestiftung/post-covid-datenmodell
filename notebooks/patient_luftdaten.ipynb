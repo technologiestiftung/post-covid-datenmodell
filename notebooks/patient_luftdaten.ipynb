{
 "cells": [
  {
   "cell_type": "code",
   "execution_count": null,
   "metadata": {},
   "outputs": [],
   "source": [
    "import os \n",
    "import json\n",
    "import pandas as pd\n",
    "\n",
    "from src.download.patient import PatientDownload\n",
    "from src.download.luftdata_downloader import AirdataDownloader\n",
    "from src.geolocation.address_transformation import get_long_lat_from_postal_code\n",
    "from src.utils.graph_configurations import get_index_timeline_plot"
   ]
  },
  {
   "cell_type": "code",
   "execution_count": null,
   "metadata": {},
   "outputs": [],
   "source": [
    "# Load Patient Data - test data\n",
    "file = open(\"data/raw/mii_testdaten.json\")\n",
    "data = json.load(file)"
   ]
  },
  {
   "cell_type": "code",
   "execution_count": null,
   "metadata": {},
   "outputs": [],
   "source": [
    "# Extract Patient Data\n",
    "patients = []\n",
    "\n",
    "for entry in data[\"entry\"]: \n",
    "    patient = PatientDownload().extract_patient(entry = entry)\n",
    "    if patient:\n",
    "        patients.append(patient)"
   ]
  },
  {
   "cell_type": "code",
   "execution_count": null,
   "metadata": {},
   "outputs": [],
   "source": [
    "# add luftdaten API data + visualize index timeline data\n",
    "\n",
    "air_data = AirdataDownloader()\n",
    "\n",
    "for patient in patients:\n",
    "    closest_station = air_data.get_closest_station(lat = patient.address.latitude, long = patient.address.longitude)\n",
    "\n",
    "    # index\n",
    "    daily_data_index_mean = air_data.get_luftdaten_index(station_id = closest_station[\"station\"][\"id\"], start_date = \"2019-01-01\", end_date = \"2019-12-31\")\n",
    "    get_index_timeline_plot(daily_data_index_mean, closest_station)\n",
    "    \n",
    "    daily_data_schadstoffe = air_data.get_luftdaten_schadstoffe(station_id = closest_station[\"station\"][\"id\"], start_date = \"2019-01-01\", end_date = \"2019-12-31\")\n",
    "    daily_data_schadstoffe = pd.DataFrame(daily_data_schadstoffe)"
   ]
  },
  {
   "cell_type": "code",
   "execution_count": null,
   "metadata": {},
   "outputs": [],
   "source": [
    "\n"
   ]
  },
  {
   "cell_type": "markdown",
   "metadata": {},
   "source": [
    "checks todo: \n",
    "- reihenfolge anpassen -> wenn in einem None dann wird wenn Wert bei anderen Datum hinten angehängt\n",
    "- funktion sollte auch mean und durschnitt/ median in einem bestimmten Zeitraum zurückgeben\n",
    "- Filter nach Luftqualitätsindex"
   ]
  },
  {
   "cell_type": "code",
   "execution_count": null,
   "metadata": {},
   "outputs": [],
   "source": []
  },
  {
   "cell_type": "markdown",
   "metadata": {},
   "source": [
    "## Looking at an individual patient"
   ]
  },
  {
   "cell_type": "code",
   "execution_count": null,
   "metadata": {},
   "outputs": [],
   "source": [
    "our_patient = patients[0]"
   ]
  },
  {
   "cell_type": "code",
   "execution_count": null,
   "metadata": {},
   "outputs": [],
   "source": [
    "print(f\"The selected patient with the id '{our_patient.id}' was born on {our_patient.birth_date} and has the gender {our_patient.gender}.\")"
   ]
  }
 ],
 "metadata": {
  "kernelspec": {
   "display_name": "post-covid-metadatenkatalog-f61elZdN-py3.11",
   "language": "python",
   "name": "python3"
  },
  "language_info": {
   "codemirror_mode": {
    "name": "ipython",
    "version": 3
   },
   "file_extension": ".py",
   "mimetype": "text/x-python",
   "name": "python",
   "nbconvert_exporter": "python",
   "pygments_lexer": "ipython3",
   "version": "3.11.6"
  }
 },
 "nbformat": 4,
 "nbformat_minor": 2
}
