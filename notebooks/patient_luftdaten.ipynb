{
 "cells": [
  {
   "cell_type": "code",
   "execution_count": null,
   "metadata": {},
   "outputs": [],
   "source": [
    "import os \n",
    "import json\n",
    "import pandas as pd\n",
    "import matplotlib.pyplot as plt\n",
    "import numpy as np\n",
    "\n",
    "from src.download.patients import PatientsDownload\n",
    "from src.download.airdata_downloader import AirdataDownloader\n",
    "from src.geolocation.address_transformation import get_long_lat_from_postal_code\n",
    "from src.utils.graph_configurations import get_index_timeline_plot, get_component_timeline_plot"
   ]
  },
  {
   "cell_type": "markdown",
   "metadata": {},
   "source": [
    "### Use Case: Von einer Datei alle Patienten extrahieren und für einzelne Patienten Luftdaten anschauen"
   ]
  },
  {
   "cell_type": "code",
   "execution_count": null,
   "metadata": {},
   "outputs": [],
   "source": [
    "# Load Patient Data - test data\n",
    "file = open(\"data/raw/mii_testdaten.json\")\n",
    "data = json.load(file)"
   ]
  },
  {
   "cell_type": "code",
   "execution_count": null,
   "metadata": {},
   "outputs": [],
   "source": [
    "# Extract Patients from Data + select an interesting patient\n",
    "patients = PatientsDownload()\n",
    "patients.extract_patients(data = data)\n",
    "interesting_patient = patients.get_patient_by_id(\"595\")\n"
   ]
  },
  {
   "cell_type": "code",
   "execution_count": null,
   "metadata": {},
   "outputs": [],
   "source": [
    "# Get Air Quality Data\n",
    "air_data = AirdataDownloader()\n",
    "interesting_patient.closest_airdata_station = air_data.get_closest_station(lat = interesting_patient.address.latitude, long = interesting_patient.address.longitude)\n",
    "\n",
    "interesting_patient.airdata_index = air_data.get_luftdaten_index(station_id = interesting_patient.closest_airdata_station[\"station\"][\"id\"], start_date = \"2019-01-01\", end_date = \"2019-12-31\")\n",
    "interesting_patient.airdata_schadstoffe = air_data.get_luftdaten_schadstoffe(station_id = interesting_patient.closest_airdata_station[\"station\"][\"id\"], start_date = \"2019-01-01\", end_date = \"2019-12-31\")"
   ]
  },
  {
   "cell_type": "code",
   "execution_count": null,
   "metadata": {},
   "outputs": [],
   "source": [
    "# Visualization of the acquired data: Air Quality Index\n",
    "get_index_timeline_plot(interesting_patient.airdata_index, interesting_patient.closest_airdata_station)"
   ]
  },
  {
   "cell_type": "code",
   "execution_count": null,
   "metadata": {},
   "outputs": [],
   "source": [
    "# Visualization of the acquired data: Feinstaub\n",
    "get_component_timeline_plot(data = interesting_patient.airdata_schadstoffe, component_name = \"Feinstaub (PM10)\", closest_station=interesting_patient.closest_airdata_station)"
   ]
  },
  {
   "cell_type": "code",
   "execution_count": null,
   "metadata": {},
   "outputs": [],
   "source": [
    "get_component_timeline_plot(data = interesting_patient.airdata_schadstoffe, component_name = \"Stickstoffdioxid\", closest_station=interesting_patient.closest_airdata_station)"
   ]
  },
  {
   "cell_type": "markdown",
   "metadata": {},
   "source": [
    "### Beispiel: Unvollständige Postleitzahl -> was passiert bei unvollständiger Postleitzahl?"
   ]
  },
  {
   "cell_type": "code",
   "execution_count": null,
   "metadata": {},
   "outputs": [],
   "source": [
    "air_data = AirdataDownloader()\n",
    "patient_incomplete_address = patients.get_patient_by_id(\"999\")\n",
    "print(f\"The patient with id {patient_incomplete_address.id} has the following incomplete postal code: {patient_incomplete_address.address.postal_code}. Still, with the beginning of the postal code a longitude and latitude was calculated: {patient_incomplete_address.address.longitude} and {patient_incomplete_address.address.latitude}\")\n"
   ]
  },
  {
   "cell_type": "code",
   "execution_count": null,
   "metadata": {},
   "outputs": [],
   "source": [
    "patient_incomplete_address.closest_airdata_station = air_data.get_closest_station(patient_incomplete_address.address.latitude, patient_incomplete_address.address.longitude)\n",
    "patient_incomplete_address.airdata_index = air_data.get_luftdaten_index(patient_incomplete_address.closest_airdata_station[\"station\"][\"id\"], start_date = \"2019-01-01\", end_date = \"2019-12-31\")\n",
    "get_index_timeline_plot(interesting_patient.airdata_index, interesting_patient.closest_airdata_station)"
   ]
  },
  {
   "cell_type": "markdown",
   "metadata": {},
   "source": [
    "### Beispiel: Keine Antwort von Luftdaten-API"
   ]
  },
  {
   "cell_type": "code",
   "execution_count": null,
   "metadata": {},
   "outputs": [],
   "source": [
    "air_data = AirdataDownloader()\n",
    "interesting_patient.closest_airdata_station = air_data.get_closest_station(lat = interesting_patient.address.latitude, long = interesting_patient.address.longitude)\n",
    "\n",
    "# No data for a station with id = \"1\" -> warning and None as value written to the patient object\n",
    "interesting_patient.airdata_index = air_data.get_luftdaten_index(station_id = \"1\", start_date = \"2019-01-01\", end_date = \"2019-12-31\")\n"
   ]
  },
  {
   "cell_type": "code",
   "execution_count": null,
   "metadata": {},
   "outputs": [],
   "source": [
    "# time gets automatically filled when invalid format, for example invalid end_date '2019-13' is given\n",
    "interesting_patient.airdata_index = air_data.get_luftdaten_index(station_id = interesting_patient.closest_airdata_station[\"station\"][\"id\"], start_date = \"2019-11-01\", end_date = \"2019-13\")\n",
    "len(interesting_patient.airdata_index) #-> time is adjusted froms available start date to current date"
   ]
  }
 ],
 "metadata": {
  "kernelspec": {
   "display_name": "post-covid-metadatenkatalog-f61elZdN-py3.11",
   "language": "python",
   "name": "python3"
  },
  "language_info": {
   "codemirror_mode": {
    "name": "ipython",
    "version": 3
   },
   "file_extension": ".py",
   "mimetype": "text/x-python",
   "name": "python",
   "nbconvert_exporter": "python",
   "pygments_lexer": "ipython3",
   "version": "3.11.6"
  }
 },
 "nbformat": 4,
 "nbformat_minor": 2
}
