{
 "cells": [
  {
   "cell_type": "code",
   "execution_count": null,
   "metadata": {},
   "outputs": [],
   "source": [
    "import pandas as pd\n",
    "import os\n",
    "import json\n",
    "import httpx\n",
    "\n",
    "from src.download.patients import PatientsDownload\n",
    "from src.download.covid_downloader import CovidDataDownloader\n",
    "from src.geolocation.address_transformation import get_landkreis_id_from_postal_code\n"
   ]
  },
  {
   "cell_type": "markdown",
   "metadata": {},
   "source": [
    "### Use Case: Von einer Datei alle Patienten extrahieren und für einzelne Patienten Covid-Daten anschauen"
   ]
  },
  {
   "cell_type": "code",
   "execution_count": null,
   "metadata": {},
   "outputs": [],
   "source": [
    "# INPUT from the User Interface \n",
    "START_DATE = input(\"Bitte geben Sie den Startzeitpunkt der Datenabfrage ein (Format: YYYY-MM-DD): \")\n",
    "END_DATE = input(\"Bitte geben Sie den Endzeitpunkt der Datenabfrage ein (Format: YYYY-MM-DD): \")"
   ]
  },
  {
   "cell_type": "code",
   "execution_count": null,
   "metadata": {},
   "outputs": [],
   "source": [
    "# Load Patient Data - test data\n",
    "file = open(\"data/raw/2024-12-02_mii_testdaten_small.json\")\n",
    "data = json.load(file)"
   ]
  },
  {
   "cell_type": "code",
   "execution_count": null,
   "metadata": {},
   "outputs": [],
   "source": [
    "# Extract Patients from Data + select an interesting patient\n",
    "patients = PatientsDownload()\n",
    "patients.extract_patients(data = data)\n",
    "interesting_patient = patients.get_patient_by_id(\"595\")"
   ]
  },
  {
   "cell_type": "code",
   "execution_count": null,
   "metadata": {},
   "outputs": [],
   "source": [
    "covid_data = CovidDataDownloader()\n",
    "return_data = covid_data.get_coviddata_patient(patient = interesting_patient, start_date = START_DATE, end_date = END_DATE)"
   ]
  },
  {
   "cell_type": "code",
   "execution_count": null,
   "metadata": {},
   "outputs": [],
   "source": [
    "return_data.head()"
   ]
  },
  {
   "cell_type": "code",
   "execution_count": null,
   "metadata": {},
   "outputs": [],
   "source": [
    "return_data[[\"Altersgruppe\", \"Geschlecht\"]].value_counts()"
   ]
  },
  {
   "cell_type": "code",
   "execution_count": null,
   "metadata": {},
   "outputs": [],
   "source": [
    "# Gesamtanzahl der Fälle # todo: bereinigung mitnehmen?\n",
    "print(f\"Die Gesamtanzahl an Fällen im Zeitraum {START_DATE} bis {END_DATE} beträgt {str(return_data['AnzahlFall'].sum())}\")"
   ]
  },
  {
   "cell_type": "code",
   "execution_count": null,
   "metadata": {},
   "outputs": [],
   "source": [
    "return_data.groupby(\"Meldedatum\").size().plot()"
   ]
  },
  {
   "cell_type": "code",
   "execution_count": null,
   "metadata": {},
   "outputs": [],
   "source": [
    "# Gesamtanzahl Todesfälle\n",
    "print(f\"Die Gesamtanzahl an Todesfällen im Zeitraum {START_DATE} bis {END_DATE} beträgt {str(return_data['AnzahlTodesfall'].sum())}\")\n"
   ]
  },
  {
   "cell_type": "code",
   "execution_count": null,
   "metadata": {},
   "outputs": [],
   "source": [
    "# Gesamtanzahl genese Fälle\n",
    "print(f\"Die Gesamtanzahl an Genesenen im Zeitraum {START_DATE} bis {END_DATE} beträgt {str(return_data['AnzahlGenesen'].sum())}\")"
   ]
  },
  {
   "cell_type": "markdown",
   "metadata": {},
   "source": [
    "### Use Case: Von einer Datei alle Patienten extrahieren und für einzelne Patient:innen Covi-Daten anschauen mit Filterung nach Geschlecht und/oder Alter"
   ]
  },
  {
   "cell_type": "code",
   "execution_count": null,
   "metadata": {},
   "outputs": [],
   "source": [
    "# INPUT from the User Interface \n",
    "START_DATE = input(\"Bitte geben Sie den Startzeitpunkt der Datenabfrage ein (Format: YYYY-MM-DD): \")\n",
    "END_DATE = input(\"Bitte geben Sie den Endzeitpunkt der Datenabfrage ein (Format: YYYY-MM-DD): \")"
   ]
  },
  {
   "cell_type": "code",
   "execution_count": null,
   "metadata": {},
   "outputs": [],
   "source": [
    "# Load Patient Data - test data\n",
    "file = open(\"data/raw/2024-12-02_mii_testdaten_small.json\")\n",
    "data = json.load(file)"
   ]
  },
  {
   "cell_type": "code",
   "execution_count": null,
   "metadata": {},
   "outputs": [],
   "source": [
    "# Extract Patients from Data + select an interesting patient\n",
    "patients = PatientsDownload()\n",
    "patients.extract_patients(data = data)\n",
    "interesting_patient = patients.get_patient_by_id(\"595\")"
   ]
  },
  {
   "cell_type": "code",
   "execution_count": null,
   "metadata": {},
   "outputs": [],
   "source": [
    "# filter for age group\n",
    "covid_data = CovidDataDownloader()\n",
    "return_data = covid_data.get_coviddata_patient(filter_age = True, patient = interesting_patient, start_date = START_DATE, end_date = END_DATE)\n",
    "return_data[\"Altersgruppe\"].value_counts()"
   ]
  },
  {
   "cell_type": "code",
   "execution_count": null,
   "metadata": {},
   "outputs": [],
   "source": [
    "# filter for gender\n",
    "covid_data = CovidDataDownloader()\n",
    "return_data = covid_data.get_coviddata_patient(filter_gender = True, patient = interesting_patient, start_date = START_DATE, end_date = END_DATE)\n",
    "return_data[\"Geschlecht\"].value_counts()"
   ]
  },
  {
   "cell_type": "code",
   "execution_count": null,
   "metadata": {},
   "outputs": [],
   "source": [
    "# filter for gender and age\n",
    "covid_data = CovidDataDownloader()\n",
    "return_data = covid_data.get_coviddata_patient(filter_gender = True, filter_age = True, patient = interesting_patient, start_date = START_DATE, end_date = END_DATE)\n",
    "return_data[[\"Altersgruppe\", \"Geschlecht\"]].value_counts()"
   ]
  },
  {
   "cell_type": "markdown",
   "metadata": {},
   "source": [
    "### Use Case: Von einer Datei alle Patienten extrahieren und für alle Patient:innen Covid-Daten anschauen"
   ]
  },
  {
   "cell_type": "code",
   "execution_count": null,
   "metadata": {},
   "outputs": [],
   "source": [
    "# INPUT from the User Interface \n",
    "START_DATE = input(\"Bitte geben Sie den Startzeitpunkt der Datenabfrage ein (Format: YYYY-MM-DD): \")\n",
    "END_DATE = input(\"Bitte geben Sie den Endzeitpunkt der Datenabfrage ein (Format: YYYY-MM-DD): \")"
   ]
  },
  {
   "cell_type": "code",
   "execution_count": null,
   "metadata": {},
   "outputs": [],
   "source": [
    "# Load Patient Data - test data\n",
    "file = open(\"data/raw/2024-12-02_mii_testdaten_small.json\")\n",
    "data = json.load(file)"
   ]
  },
  {
   "cell_type": "code",
   "execution_count": null,
   "metadata": {},
   "outputs": [],
   "source": [
    "# Extract Patients from Data + select an interesting patient\n",
    "patients = PatientsDownload()\n",
    "patients.extract_patients(data = data)\n",
    "interesting_patient = patients.get_patient_by_id(\"595\")"
   ]
  },
  {
   "cell_type": "code",
   "execution_count": null,
   "metadata": {},
   "outputs": [],
   "source": [
    "covid_data = CovidDataDownloader()\n",
    "return_data = covid_data.get_coviddata_patient(filter_gender = True, filter_age = True, patient = interesting_patient, start_date = START_DATE, end_date = END_DATE)"
   ]
  },
  {
   "cell_type": "code",
   "execution_count": null,
   "metadata": {},
   "outputs": [],
   "source": [
    "return_data"
   ]
  },
  {
   "cell_type": "markdown",
   "metadata": {},
   "source": [
    "### Use Case: Von einer Datei alle Patienten extrahieren und für alle Patient:innen Covid-Daten anschauen mit Filter nach Geschlecht und Alter"
   ]
  },
  {
   "cell_type": "code",
   "execution_count": null,
   "metadata": {},
   "outputs": [],
   "source": [
    "# INPUT from the User Interface \n",
    "START_DATE = input(\"Bitte geben Sie den Startzeitpunkt der Datenabfrage ein (Format: YYYY-MM-DD): \")\n",
    "END_DATE = input(\"Bitte geben Sie den Endzeitpunkt der Datenabfrage ein (Format: YYYY-MM-DD): \")"
   ]
  },
  {
   "cell_type": "code",
   "execution_count": null,
   "metadata": {},
   "outputs": [],
   "source": [
    "# Load Patient Data - test data\n",
    "file = open(\"data/raw/2024-12-02_mii_testdaten_large.json\")\n",
    "data = json.load(file)"
   ]
  },
  {
   "cell_type": "code",
   "execution_count": null,
   "metadata": {},
   "outputs": [],
   "source": [
    "# Extract Patients from Data + select an interesting patient\n",
    "patients = PatientsDownload()\n",
    "patients.extract_patients(data = data)\n",
    "\n",
    "covid_data = CovidDataDownloader()"
   ]
  },
  {
   "cell_type": "code",
   "execution_count": null,
   "metadata": {},
   "outputs": [],
   "source": [
    "# filter for gender\n",
    "return_data = covid_data.get_coviddata_patient_collection(filter_gender= True, patients = patients.patients, start_date = START_DATE, end_date=END_DATE)"
   ]
  },
  {
   "cell_type": "code",
   "execution_count": null,
   "metadata": {},
   "outputs": [],
   "source": [
    "patient_data = return_data[return_data[\"patient_id\"] == \"longcovid-patient-2\"]"
   ]
  },
  {
   "cell_type": "code",
   "execution_count": null,
   "metadata": {},
   "outputs": [],
   "source": [
    "patient_data[\"Geschlecht\"].value_counts() # only female covid data"
   ]
  }
 ],
 "metadata": {
  "kernelspec": {
   "display_name": "post-covid-metadatenkatalog-f61elZdN-py3.11",
   "language": "python",
   "name": "python3"
  },
  "language_info": {
   "codemirror_mode": {
    "name": "ipython",
    "version": 3
   },
   "file_extension": ".py",
   "mimetype": "text/x-python",
   "name": "python",
   "nbconvert_exporter": "python",
   "pygments_lexer": "ipython3",
   "version": "3.11.6"
  }
 },
 "nbformat": 4,
 "nbformat_minor": 2
}
