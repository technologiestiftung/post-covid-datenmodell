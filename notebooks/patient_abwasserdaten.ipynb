{
 "cells": [
  {
   "cell_type": "code",
   "execution_count": null,
   "metadata": {},
   "outputs": [],
   "source": [
    "import httpx\n",
    "import pandas as pd\n",
    "import os \n",
    "import json\n",
    "\n",
    "from src.download.patients import PatientsDownload\n",
    "from src.download.abwasser_downloader import SewagedataDownloader\n",
    "from src.utils.graph_configurations import get_sewagedata_timeline_plot"
   ]
  },
  {
   "cell_type": "markdown",
   "metadata": {},
   "source": [
    "### Use Case: Von einer Datei alle Patienten extrahieren und für einzelne Patienten Abwasserdaten anschauen"
   ]
  },
  {
   "cell_type": "code",
   "execution_count": null,
   "metadata": {},
   "outputs": [],
   "source": [
    "# INPUT from the User Interface \n",
    "START_DATE = input(\"Bitte geben Sie den Startzeitpunkt der Datenabfrage ein (Format: YYYY-MM-DD): \")\n",
    "END_DATE = input(\"Bitte geben Sie den Endzeitpunkt der Datenabfrage ein (Format: YYYY-MM-DD): \")"
   ]
  },
  {
   "cell_type": "code",
   "execution_count": null,
   "metadata": {},
   "outputs": [],
   "source": [
    "# Load Patient Data - test data\n",
    "file = open(\"data/raw/2024-12-02_mii_testdaten_small.json\")\n",
    "data = json.load(file)"
   ]
  },
  {
   "cell_type": "code",
   "execution_count": null,
   "metadata": {},
   "outputs": [],
   "source": [
    "# Extract Patients from Data + select an interesting patient\n",
    "patients = PatientsDownload()\n",
    "patients.extract_patients(data = data)\n",
    "interesting_patient = patients.get_patient_by_id(\"595\")"
   ]
  },
  {
   "cell_type": "code",
   "execution_count": null,
   "metadata": {},
   "outputs": [],
   "source": [
    "# Get Abwasser Daten for Patient\n",
    "sewage_data = SewagedataDownloader()\n",
    "data = sewage_data.get_sewage_data_patient(start_date = START_DATE, end_date= END_DATE, longitude = interesting_patient.address.longitude, latitude = interesting_patient.address.latitude)"
   ]
  },
  {
   "cell_type": "code",
   "execution_count": null,
   "metadata": {},
   "outputs": [],
   "source": [
    "data.head()"
   ]
  },
  {
   "cell_type": "markdown",
   "metadata": {},
   "source": [
    "### Use Case: Additional filtering - Filterung nach Typ"
   ]
  },
  {
   "cell_type": "code",
   "execution_count": null,
   "metadata": {},
   "outputs": [],
   "source": [
    "START_DATE = input(\"Bitte geben Sie den Startzeitpunkt der Datenabfrage ein (Format: YYYY-MM-DD): \")\n",
    "END_DATE = input(\"Bitte geben Sie den Endzeitpunkt der Datenabfrage ein (Format: YYYY-MM-DD): \")\n",
    "VIRUS_TYPE = input(\"Bitte geben Sie den Virus-Typ ein. Optionen sind: SARS-CoV-2, Influenza A, Influenza B oder Influenza A+B:\")"
   ]
  },
  {
   "cell_type": "code",
   "execution_count": null,
   "metadata": {},
   "outputs": [],
   "source": [
    "# Load Patient Data - test data\n",
    "file = open(\"data/raw/2024-12-02_mii_testdaten_small.json\")\n",
    "data = json.load(file)"
   ]
  },
  {
   "cell_type": "code",
   "execution_count": null,
   "metadata": {},
   "outputs": [],
   "source": [
    "# Extract Patients from Data + select an interesting patient\n",
    "patients = PatientsDownload()\n",
    "patients.extract_patients(data = data)\n",
    "interesting_patient = patients.get_patient_by_id(\"595\")"
   ]
  },
  {
   "cell_type": "code",
   "execution_count": null,
   "metadata": {},
   "outputs": [],
   "source": [
    "# Get Abwasser Daten for Patient\n",
    "sewage_data = SewagedataDownloader()\n",
    "data = sewage_data.get_sewage_data_patient(start_date = START_DATE, end_date= END_DATE, longitude = interesting_patient.address.longitude, latitude = interesting_patient.address.latitude, virus_type = VIRUS_TYPE)"
   ]
  },
  {
   "cell_type": "code",
   "execution_count": null,
   "metadata": {},
   "outputs": [],
   "source": [
    "# data without missings\n",
    "data_ = data.dropna(subset=['viruslast']) # Drop rows with NaN values in the column\n",
    "get_sewagedata_timeline_plot(data = data_, column = 'viruslast')"
   ]
  },
  {
   "cell_type": "markdown",
   "metadata": {},
   "source": [
    "### Use Case: Additional filtering - Filterung nach Normalisierung"
   ]
  },
  {
   "cell_type": "code",
   "execution_count": null,
   "metadata": {},
   "outputs": [],
   "source": [
    "START_DATE = input(\"Bitte geben Sie den Startzeitpunkt der Datenabfrage ein (Format: YYYY-MM-DD): \")\n",
    "END_DATE = input(\"Bitte geben Sie den Endzeitpunkt der Datenabfrage ein (Format: YYYY-MM-DD): \")\n",
    "IS_NORMALISIERT = input(\"Bitte geben Sie an ob die Werte normalisiert sein sollen. Optionen: ja oder nein\")"
   ]
  },
  {
   "cell_type": "code",
   "execution_count": null,
   "metadata": {},
   "outputs": [],
   "source": [
    "# Load Patient Data - test data\n",
    "file = open(\"data/raw/2024-12-02_mii_testdaten_small.json\")\n",
    "data = json.load(file)"
   ]
  },
  {
   "cell_type": "code",
   "execution_count": null,
   "metadata": {},
   "outputs": [],
   "source": [
    "# Extract Patients from Data + select an interesting patient\n",
    "patients = PatientsDownload()\n",
    "patients.extract_patients(data = data)\n",
    "interesting_patient = patients.get_patient_by_id(\"595\")"
   ]
  },
  {
   "cell_type": "code",
   "execution_count": null,
   "metadata": {},
   "outputs": [],
   "source": [
    "# Get Abwasser Daten for Patient\n",
    "sewage_data = SewagedataDownloader()\n",
    "data = sewage_data.get_sewage_data_patient(start_date = START_DATE, end_date= END_DATE, longitude = interesting_patient.address.longitude, latitude = interesting_patient.address.latitude, is_normalsierung = IS_NORMALISIERT)"
   ]
  },
  {
   "cell_type": "markdown",
   "metadata": {},
   "source": [
    "### Use Case: Daten noch weiter verarbeiten (Mean / Median)"
   ]
  },
  {
   "cell_type": "code",
   "execution_count": null,
   "metadata": {},
   "outputs": [],
   "source": [
    "START_DATE = input(\"Bitte geben Sie den Startzeitpunkt der Datenabfrage ein (Format: YYYY-MM-DD): \")\n",
    "END_DATE = input(\"Bitte geben Sie den Endzeitpunkt der Datenabfrage ein (Format: YYYY-MM-DD): \")\n",
    "VIRUS_TYPE = input(\"Bitte geben Sie den Virus-Typ ein. Optionen sind: SARS-CoV-2, Influenza A, Influenza B oder Influenza A+B:\")"
   ]
  },
  {
   "cell_type": "code",
   "execution_count": null,
   "metadata": {},
   "outputs": [],
   "source": [
    "# Load Patient Data - test data\n",
    "file = open(\"data/raw/2024-12-02_mii_testdaten_small.json\")\n",
    "data = json.load(file)"
   ]
  },
  {
   "cell_type": "code",
   "execution_count": null,
   "metadata": {},
   "outputs": [],
   "source": [
    "# Extract Patients from Data + select an interesting patient\n",
    "patients = PatientsDownload()\n",
    "patients.extract_patients(data = data)\n",
    "interesting_patient = patients.get_patient_by_id(\"595\")"
   ]
  },
  {
   "cell_type": "code",
   "execution_count": null,
   "metadata": {},
   "outputs": [],
   "source": [
    "# Get Abwasser Daten for Patient\n",
    "sewage_data = SewagedataDownloader()\n",
    "data = sewage_data.get_sewage_data_patient(start_date = START_DATE, end_date= END_DATE, longitude = interesting_patient.address.longitude, latitude = interesting_patient.address.latitude, virus_type = VIRUS_TYPE)"
   ]
  },
  {
   "cell_type": "code",
   "execution_count": null,
   "metadata": {},
   "outputs": [],
   "source": [
    "# apply mean to the data\n",
    "print(f\"Durchschnittlich gemessene Viruslast (mean) in Genkopien pro Liter für den Zeitraum {START_DATE} bis {END_DATE} für den Virus-Typ {VIRUS_TYPE}: {round(data['viruslast'].mean())} (gerundet)\")\n",
    "print(f\"Durchschnittlich vorhergesagte Viruslast (mean) in Genkopien pro Liter für den Zeitraum {START_DATE} bis {END_DATE} für den Virus-Typ {VIRUS_TYPE}: {round(data['loess_vorhersage'].mean())} (gerundet)\")"
   ]
  },
  {
   "cell_type": "code",
   "execution_count": null,
   "metadata": {},
   "outputs": [],
   "source": [
    "# apply median to the data\n",
    "print(f\"Durchschnittlich gemessene Viruslast (median) in Genkopien pro Liter für den Zeitraum {START_DATE} bis {END_DATE} für den Virus-Typ {VIRUS_TYPE}: {round(data['viruslast'].median())} (gerundet)\")\n",
    "print(f\"Durchschnittlich vorhergesagte Viruslast (median) in Genkopien pro Liter für den Zeitraum {START_DATE} bis {END_DATE} für den Virus-Typ {VIRUS_TYPE}: {round(data['loess_vorhersage'].median())} (gerundet)\")"
   ]
  },
  {
   "cell_type": "markdown",
   "metadata": {},
   "source": [
    "### Use Case: über mehrere Patienten loopen und einen Datensatz für alle"
   ]
  },
  {
   "cell_type": "code",
   "execution_count": null,
   "metadata": {},
   "outputs": [],
   "source": [
    "# INPUT from the User Interface \n",
    "START_DATE = input(\"Bitte geben Sie den Startzeitpunkt der Datenabfrage ein (Format: YYYY-MM-DD): \")\n",
    "END_DATE = input(\"Bitte geben Sie den Endzeitpunkt der Datenabfrage ein (Format: YYYY-MM-DD): \")"
   ]
  },
  {
   "cell_type": "code",
   "execution_count": null,
   "metadata": {},
   "outputs": [],
   "source": [
    "# Load Patient Data - test data\n",
    "file = open(\"data/raw/2024-12-02_mii_testdaten_large.json\")\n",
    "data = json.load(file)"
   ]
  },
  {
   "cell_type": "code",
   "execution_count": null,
   "metadata": {},
   "outputs": [],
   "source": [
    "# Extract Patients from Data + select an interesting patient\n",
    "patients = PatientsDownload()\n",
    "patients.extract_patients(data = data)\n",
    "\n",
    "sewage_data = SewagedataDownloader()\n",
    "return_data = sewage_data.get_sewage_data_patient_collection(patients= patients.patients, start_date = START_DATE, end_date = END_DATE)"
   ]
  },
  {
   "cell_type": "code",
   "execution_count": null,
   "metadata": {},
   "outputs": [],
   "source": [
    "return_data.head()"
   ]
  },
  {
   "cell_type": "code",
   "execution_count": null,
   "metadata": {},
   "outputs": [],
   "source": [
    "# simple table to show how many patient are in which standort\n",
    "return_data_deduplicated = return_data.drop_duplicates(subset=['standort', 'patient_id'])\n",
    "grouped = return_data_deduplicated.groupby('standort')['patient_id'].count().reset_index()\n",
    "grouped.columns = ['standort', 'num_patients']\n",
    "\n",
    "print(grouped)"
   ]
  }
 ],
 "metadata": {
  "kernelspec": {
   "display_name": "post-covid-metadatenkatalog-f61elZdN-py3.11",
   "language": "python",
   "name": "python3"
  },
  "language_info": {
   "codemirror_mode": {
    "name": "ipython",
    "version": 3
   },
   "file_extension": ".py",
   "mimetype": "text/x-python",
   "name": "python",
   "nbconvert_exporter": "python",
   "pygments_lexer": "ipython3",
   "version": "3.11.6"
  }
 },
 "nbformat": 4,
 "nbformat_minor": 2
}
