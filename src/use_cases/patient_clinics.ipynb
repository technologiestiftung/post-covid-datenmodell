{
 "cells": [
  {
   "cell_type": "code",
   "execution_count": null,
   "metadata": {},
   "outputs": [],
   "source": [
    "import os \n",
    "import json\n",
    "import pandas as pd\n",
    "import matplotlib.pyplot as plt\n",
    "import numpy as np\n",
    "\n",
    "from src.download.patients import PatientsDownload\n",
    "from src.download.clinic_downloader import ClinicDownloader"
   ]
  },
  {
   "cell_type": "markdown",
   "metadata": {},
   "source": [
    "# Info: \n",
    "Dieses Skript arbeitet mit den Klinik Daten von der BMG Initiative Long Covid (https://www.bmg-longcovid.de/service/buergertelefon-und-regionale-kliniksuche). Es werden folgende Use Cases abgedeckt:\n",
    "\n",
    "1) Für einzelne Patient:innen Kliniken mit Post-Covid Spezialisierung anschauen\n",
    "2) Für mehrere Patient:innen Kliniken mit Post-Covid Spezialisierung anschauen mit zwei Forschungsfragen-Ideen: \n",
    "    - Wie weit entfernt ist die nächste Klinik von den Patient:innen im Durschschnitt entfernt?\n",
    "    - Welche Klinik ist am nächsten für die meisten Patient:innen?\n",
    "\n",
    "Dabei werden immer die nächsten Kliniken (berechnet mit Hilfe der Postleitzahl und Breitengrad, Längengrad) zurückgegeben."
   ]
  },
  {
   "cell_type": "markdown",
   "metadata": {},
   "source": [
    "### 1) Use Case: Von einer Datei alle Patient:innen extrahieren und für einzelne Patient:innen Kliniken mit Post-Covid Spezialisierung anschauen"
   ]
  },
  {
   "cell_type": "code",
   "execution_count": 2,
   "metadata": {},
   "outputs": [],
   "source": [
    "# Load Patient Data - test data\n",
    "with open(\"data/raw/2024-12-02_mii_testdaten_small.json\", 'r') as file:\n",
    "    data = json.load(file)"
   ]
  },
  {
   "cell_type": "code",
   "execution_count": 3,
   "metadata": {},
   "outputs": [],
   "source": [
    "# Extract Patients from Data + select an interesting patient\n",
    "patients = PatientsDownload()\n",
    "patients.extract_patients(data = data)\n",
    "interesting_patient = patients.get_patient_by_id(\"595\")"
   ]
  },
  {
   "cell_type": "code",
   "execution_count": 4,
   "metadata": {},
   "outputs": [],
   "source": [
    "clinic_data = ClinicDownloader()\n",
    "return_data = clinic_data.get_clinic_data_patient(interesting_patient)"
   ]
  },
  {
   "cell_type": "code",
   "execution_count": 5,
   "metadata": {},
   "outputs": [
    {
     "data": {
      "text/html": [
       "<div>\n",
       "<style scoped>\n",
       "    .dataframe tbody tr th:only-of-type {\n",
       "        vertical-align: middle;\n",
       "    }\n",
       "\n",
       "    .dataframe tbody tr th {\n",
       "        vertical-align: top;\n",
       "    }\n",
       "\n",
       "    .dataframe thead th {\n",
       "        text-align: right;\n",
       "    }\n",
       "</style>\n",
       "<table border=\"1\" class=\"dataframe\">\n",
       "  <thead>\n",
       "    <tr style=\"text-align: right;\">\n",
       "      <th></th>\n",
       "      <th>patient_id</th>\n",
       "      <th>name</th>\n",
       "      <th>state</th>\n",
       "      <th>place</th>\n",
       "      <th>zip</th>\n",
       "      <th>link</th>\n",
       "      <th>type</th>\n",
       "      <th>focusarea1</th>\n",
       "      <th>focusarea2</th>\n",
       "      <th>distance</th>\n",
       "    </tr>\n",
       "  </thead>\n",
       "  <tbody>\n",
       "    <tr>\n",
       "      <th>0</th>\n",
       "      <td>595</td>\n",
       "      <td>Charité Universitätsmedizin Berlin, HNO-Sprech...</td>\n",
       "      <td>Berlin</td>\n",
       "      <td>Berlin</td>\n",
       "      <td>10117</td>\n",
       "      <td>https://hno.charite.de/fuer_patienten/sprechst...</td>\n",
       "      <td>Klinikum</td>\n",
       "      <td>HNO</td>\n",
       "      <td></td>\n",
       "      <td>3.055688</td>\n",
       "    </tr>\n",
       "  </tbody>\n",
       "</table>\n",
       "</div>"
      ],
      "text/plain": [
       "  patient_id                                               name   state  \\\n",
       "0        595  Charité Universitätsmedizin Berlin, HNO-Sprech...  Berlin   \n",
       "\n",
       "    place    zip                                               link      type  \\\n",
       "0  Berlin  10117  https://hno.charite.de/fuer_patienten/sprechst...  Klinikum   \n",
       "\n",
       "  focusarea1 focusarea2  distance  \n",
       "0        HNO             3.055688  "
      ]
     },
     "execution_count": 5,
     "metadata": {},
     "output_type": "execute_result"
    }
   ],
   "source": [
    "return_data.head()"
   ]
  },
  {
   "cell_type": "markdown",
   "metadata": {},
   "source": [
    "### 2) Use Case: über mehrere Patient:innen loopen und einen Datensatz für alle"
   ]
  },
  {
   "cell_type": "code",
   "execution_count": null,
   "metadata": {},
   "outputs": [],
   "source": [
    "# Load Patient Data - test data\n",
    "with open(\"data/raw/2024-12-02_mii_testdaten_large.json\", 'r') as file:\n",
    "    data = json.load(file)"
   ]
  },
  {
   "cell_type": "code",
   "execution_count": null,
   "metadata": {},
   "outputs": [],
   "source": [
    "patients = PatientsDownload()\n",
    "patients.extract_patients(data = data)\n",
    "\n",
    "clinic_data = ClinicDownloader()\n",
    "return_data = clinic_data.get_clinic_data_patient_collection(patients = patients.patients)"
   ]
  },
  {
   "cell_type": "code",
   "execution_count": null,
   "metadata": {},
   "outputs": [],
   "source": [
    "return_data[\"name\"].value_counts()"
   ]
  },
  {
   "cell_type": "code",
   "execution_count": null,
   "metadata": {},
   "outputs": [],
   "source": [
    "# Forschungsfrage: Wie weit entfernt ist die nächste Klinik von den Patient:innen im Durschschnitt entfernt?\n",
    "str(round(return_data[\"distance\"].mean(), 2)) + \" km\""
   ]
  },
  {
   "cell_type": "code",
   "execution_count": null,
   "metadata": {},
   "outputs": [],
   "source": [
    "# Forschungsfrage: Welche Klinik ist am nächsten für die meisten Patient:innen?\n",
    "return_data[\"name\"].value_counts().idxmax()"
   ]
  }
 ],
 "metadata": {
  "kernelspec": {
   "display_name": "post-covid-metadatenkatalog-f61elZdN-py3.11",
   "language": "python",
   "name": "python3"
  },
  "language_info": {
   "codemirror_mode": {
    "name": "ipython",
    "version": 3
   },
   "file_extension": ".py",
   "mimetype": "text/x-python",
   "name": "python",
   "nbconvert_exporter": "python",
   "pygments_lexer": "ipython3",
   "version": "3.11.6"
  }
 },
 "nbformat": 4,
 "nbformat_minor": 2
}
