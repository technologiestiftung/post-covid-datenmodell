{
 "cells": [
  {
   "cell_type": "code",
   "execution_count": null,
   "metadata": {},
   "outputs": [],
   "source": [
    "import os \n",
    "import json\n",
    "import pandas as pd\n",
    "import matplotlib.pyplot as plt\n",
    "import numpy as np\n",
    "\n",
    "from src.download.patients import PatientsDownload\n",
    "from src.download.airdata_downloader import AirdataDownloader\n",
    "from src.utils.graph_configurations import get_air_data_index_timeline_plot, get_air_data_component_timeline_plot"
   ]
  },
  {
   "cell_type": "markdown",
   "metadata": {},
   "source": [
    "### Use Case: Von einer Datei alle Patient:innen extrahieren und für einzelne Patient:innen Luftdaten anschauen"
   ]
  },
  {
   "cell_type": "code",
   "execution_count": null,
   "metadata": {},
   "outputs": [],
   "source": [
    "# INPUT from the User Interface \n",
    "START_DATE = input(\"Bitte geben Sie den Startzeitpunkt der Datenabfrage ein (Format: YYYY-MM-DD). Es sind Daten ab dem 01.01.2002 verfügbar:  \")\n",
    "END_DATE = input(\"Bitte geben Sie den Endzeitpunkt der Datenabfrage ein (Format: YYYY-MM-DD): \")"
   ]
  },
  {
   "cell_type": "code",
   "execution_count": null,
   "metadata": {},
   "outputs": [],
   "source": [
    "# Load Patient Data - test data\n",
    "with open(\"data/raw/2024-12-02_mii_testdaten_small.json\", 'r') as file:\n",
    "    data = json.load(file)"
   ]
  },
  {
   "cell_type": "code",
   "execution_count": null,
   "metadata": {},
   "outputs": [],
   "source": [
    "# Extract Patients from Data + select an interesting patient\n",
    "patients = PatientsDownload()\n",
    "patients.extract_patients(data = data)\n",
    "interesting_patient = patients.get_patient_by_id(\"595\")\n"
   ]
  },
  {
   "cell_type": "code",
   "execution_count": null,
   "metadata": {},
   "outputs": [],
   "source": [
    "# Get Air Quality Data\n",
    "air_data = AirdataDownloader()\n",
    "\n",
    "index_data = air_data.get_luftdaten_index_patient(longitude = interesting_patient.address.longitude, latitude = interesting_patient.address.latitude, start_date = START_DATE, end_date = END_DATE)\n",
    "schadstoffe_data = air_data.get_luftdaten_schadstoffe_patient(longitude = interesting_patient.address.longitude, latitude = interesting_patient.address.latitude, start_date = START_DATE, end_date = END_DATE)"
   ]
  },
  {
   "cell_type": "code",
   "execution_count": null,
   "metadata": {},
   "outputs": [],
   "source": [
    "# Visualization of the acquired data: Air Quality Index\n",
    "get_air_data_index_timeline_plot(index_data)"
   ]
  },
  {
   "cell_type": "code",
   "execution_count": null,
   "metadata": {},
   "outputs": [],
   "source": [
    "# Visualization of the acquired data: Feinstaub\n",
    "get_air_data_component_timeline_plot(data = schadstoffe_data, component_name = \"Feinstaub (PM10)\")"
   ]
  },
  {
   "cell_type": "code",
   "execution_count": null,
   "metadata": {},
   "outputs": [],
   "source": [
    "get_air_data_component_timeline_plot(data = schadstoffe_data, component_name = \"Stickstoffdioxid\")"
   ]
  },
  {
   "cell_type": "markdown",
   "metadata": {},
   "source": [
    "### Beispiel: Unvollständige Postleitzahl -> was passiert bei unvollständiger Postleitzahl?"
   ]
  },
  {
   "cell_type": "code",
   "execution_count": null,
   "metadata": {},
   "outputs": [],
   "source": [
    "air_data = AirdataDownloader()\n",
    "patient_incomplete_address = patients.get_patient_by_id(\"999\")\n",
    "print(f\"The patient with id {patient_incomplete_address.id} has the following incomplete postal code: {patient_incomplete_address.address.postal_code}. Still, with the beginning of the postal code a longitude and latitude was calculated: {patient_incomplete_address.address.longitude} and {patient_incomplete_address.address.latitude}\")\n"
   ]
  },
  {
   "cell_type": "code",
   "execution_count": null,
   "metadata": {},
   "outputs": [],
   "source": [
    "airdata_index = air_data.get_luftdaten_index_patient(longitude= patient_incomplete_address.address.longitude, latitude= patient_incomplete_address.address.latitude, start_date = \"2019-01-01\", end_date = \"2019-12-31\")\n",
    "get_air_data_index_timeline_plot(airdata_index)"
   ]
  },
  {
   "cell_type": "markdown",
   "metadata": {},
   "source": [
    "### Beispiel: Keine Antwort von Luftdaten-API"
   ]
  },
  {
   "cell_type": "code",
   "execution_count": null,
   "metadata": {},
   "outputs": [],
   "source": [
    "# time gets automatically filled when invalid format, for example invalid end_date '2019-13' is given\n",
    "airdata_index = air_data.get_luftdaten_index_patient(longitude = interesting_patient.address.longitude, latitude = interesting_patient.address.latitude, start_date = \"2019-11-01\", end_date = \"2019-13\")\n",
    "len(airdata_index) #-> time is adjusted from available start date to current date"
   ]
  },
  {
   "cell_type": "markdown",
   "metadata": {},
   "source": [
    "### Use Case: über mehrere Patient:innen loopen und einen Datensatz für alle"
   ]
  },
  {
   "cell_type": "code",
   "execution_count": null,
   "metadata": {},
   "outputs": [],
   "source": [
    "# INPUT from the User Interface \n",
    "START_DATE = input(\"Bitte geben Sie den Startzeitpunkt der Datenabfrage ein (Format: YYYY-MM-DD). Es sind Daten ab dem 01.01.2002 verfügbar: \")\n",
    "END_DATE = input(\"Bitte geben Sie den Endzeitpunkt der Datenabfrage ein (Format: YYYY-MM-DD): \")"
   ]
  },
  {
   "cell_type": "code",
   "execution_count": null,
   "metadata": {},
   "outputs": [],
   "source": [
    "# Load Patient Data - test data\n",
    "with open(\"data/raw/2024-12-02_mii_testdaten_large.json\", 'r') as file:\n",
    "    data = json.load(file)"
   ]
  },
  {
   "cell_type": "code",
   "execution_count": null,
   "metadata": {},
   "outputs": [],
   "source": [
    "# Extract Patients from Data\n",
    "patients = PatientsDownload()\n",
    "patients.extract_patients(data = data)\n",
    "\n",
    "air_data = AirdataDownloader()\n",
    "\n",
    "# index data\n",
    "index_data = air_data.get_luftdaten_index_patient_collection(patients = patients.patients, start_date = START_DATE, end_date = END_DATE)"
   ]
  },
  {
   "cell_type": "code",
   "execution_count": null,
   "metadata": {},
   "outputs": [],
   "source": [
    "# simple table to show how many patient are in which standort\n",
    "index_data_deduplicated = index_data.drop_duplicates(subset=['standort', 'patient_id'])\n",
    "grouped = index_data_deduplicated.groupby('standort')['patient_id'].count().reset_index()\n",
    "grouped.columns = ['standort', 'num_patients']\n",
    "\n",
    "print(grouped)"
   ]
  },
  {
   "cell_type": "code",
   "execution_count": null,
   "metadata": {},
   "outputs": [],
   "source": [
    "# individual component data\n",
    "schadstoffe_data = air_data.get_luftdaten_schadstoffe_patient_collection(patients = patients.patients, start_date = START_DATE, end_date = END_DATE)"
   ]
  },
  {
   "cell_type": "code",
   "execution_count": null,
   "metadata": {},
   "outputs": [],
   "source": [
    "# simple table to show how many patient are in which standort\n",
    "schadstoffe_data_deduplicated = schadstoffe_data.drop_duplicates(subset=['standort', 'patient_id'])\n",
    "grouped = schadstoffe_data.groupby('standort')['patient_id'].count().reset_index()\n",
    "grouped.columns = ['standort', 'num_patients']\n",
    "\n",
    "print(grouped)"
   ]
  }
 ],
 "metadata": {
  "kernelspec": {
   "display_name": "post-covid-metadatenkatalog-f61elZdN-py3.11",
   "language": "python",
   "name": "python3"
  },
  "language_info": {
   "codemirror_mode": {
    "name": "ipython",
    "version": 3
   },
   "file_extension": ".py",
   "mimetype": "text/x-python",
   "name": "python",
   "nbconvert_exporter": "python",
   "pygments_lexer": "ipython3",
   "version": "3.11.6"
  }
 },
 "nbformat": 4,
 "nbformat_minor": 2
}
