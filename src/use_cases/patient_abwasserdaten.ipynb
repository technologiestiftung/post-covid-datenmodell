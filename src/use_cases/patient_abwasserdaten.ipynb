{
 "cells": [
  {
   "cell_type": "code",
   "execution_count": null,
   "metadata": {},
   "outputs": [],
   "source": [
    "import httpx\n",
    "import pandas as pd\n",
    "import os \n",
    "import json\n",
    "\n",
    "from src.download.patients import PatientsDownload\n",
    "from src.download.abwasser_downloader import SewagedataDownloader\n",
    "from src.utils.graph_configurations import get_sewagedata_timeline_plot"
   ]
  },
  {
   "cell_type": "markdown",
   "metadata": {},
   "source": [
    "# Info: \n",
    "Dieses Skript arbeitet mit den Abwasserdaten (Viruslast im Wasser) des RKIs. Es werden folgende Use Cases abgedeckt: \n",
    "\n",
    "Für einzelne Patient:innen:\n",
    "1) Für einzelne Patient:innen Abwasserdaten anschauen\n",
    "2) Filterung der Abwasserdaten (nach Virusart)\n",
    "3) Filterung der Abwasserdaten (nach Normalisierung)\n",
    "4) Weiterverarbeitung der Daten: Mean/ Median in einem Zeitraum berechnen \n",
    "5) Fehlende start_date und end_date bei einem/r einzelnen Patient:in -> Berechnung des Zeitraums anhand des Diagnose-Datums\n",
    "\n",
    "Für mehrere Patient:innen:\n",
    "6) Für mehrere Patient:innen Abwasserdaten anschauen\n",
    "7) Fehlende start_date und end_date bei mehreren Patient:in -> Berechnung des Zeitraums anhand des Diagnose-Datums"
   ]
  },
  {
   "cell_type": "markdown",
   "metadata": {},
   "source": [
    "### 1) Use Case: Von einer Datei alle Patient:innen extrahieren und für einzelne Patient:innen Abwasserdaten anschauen"
   ]
  },
  {
   "cell_type": "code",
   "execution_count": 34,
   "metadata": {},
   "outputs": [],
   "source": [
    "# INPUT from the User Interface \n",
    "START_DATE = input(\"Bitte geben Sie den Startzeitpunkt der Datenabfrage ein (Format: YYYY-MM-DD). Es sind nur Daten zwischen 01.06.2022 and 31.12.2024 verfügbar: \")\n",
    "END_DATE = input(\"Bitte geben Sie den Endzeitpunkt der Datenabfrage ein (Format: YYYY-MM-DD). Es sind nur Daten zwischen 01.06.2022 and 31.12.2024 verfügbar: \")"
   ]
  },
  {
   "cell_type": "code",
   "execution_count": null,
   "metadata": {},
   "outputs": [],
   "source": [
    "# Load Patient Data - test data\n",
    "with open(\"data/raw/2024-12-02_mii_testdaten_small.json\", 'r') as file:\n",
    "    data = json.load(file)"
   ]
  },
  {
   "cell_type": "code",
   "execution_count": null,
   "metadata": {},
   "outputs": [],
   "source": [
    "# Extract Patients from Data + select an interesting patient\n",
    "patients = PatientsDownload()\n",
    "patients.extract_patients(data = data)\n",
    "interesting_patient = patients.get_patient_by_id(\"595\")"
   ]
  },
  {
   "cell_type": "code",
   "execution_count": null,
   "metadata": {},
   "outputs": [],
   "source": [
    "# Get Abwasser Daten for Patient\n",
    "sewage_data = SewagedataDownloader()\n",
    "data = sewage_data.get_sewage_data_patient(start_date = START_DATE, end_date= END_DATE, patient = interesting_patient)"
   ]
  },
  {
   "cell_type": "code",
   "execution_count": null,
   "metadata": {},
   "outputs": [],
   "source": [
    "data.head()"
   ]
  },
  {
   "cell_type": "markdown",
   "metadata": {},
   "source": [
    "### 2) Use Case: Additional filtering - Filterung nach Typ"
   ]
  },
  {
   "cell_type": "code",
   "execution_count": null,
   "metadata": {},
   "outputs": [],
   "source": [
    "START_DATE = input(\"Bitte geben Sie den Startzeitpunkt der Datenabfrage ein (Format: YYYY-MM-DD). Es sind nur Daten zwischen 01.06.2022 and 31.12.2024 verfügbar:  \")\n",
    "END_DATE = input(\"Bitte geben Sie den Endzeitpunkt der Datenabfrage ein (Format: YYYY-MM-DD). Es sind nur Daten zwischen 01.06.2022 and 31.12.2024 verfügbar:  \")\n",
    "VIRUS_TYPE = input(\"Bitte geben Sie den Virus-Typ ein. Optionen sind: SARS-CoV-2, Influenza A, Influenza B oder Influenza A+B:\")"
   ]
  },
  {
   "cell_type": "code",
   "execution_count": null,
   "metadata": {},
   "outputs": [],
   "source": [
    "# Load Patient Data - test data\n",
    "with open(\"data/raw/2024-12-02_mii_testdaten_small.json\", 'r') as file:\n",
    "    data = json.load(file)"
   ]
  },
  {
   "cell_type": "code",
   "execution_count": null,
   "metadata": {},
   "outputs": [],
   "source": [
    "# Extract Patients from Data + select an interesting patient\n",
    "patients = PatientsDownload()\n",
    "patients.extract_patients(data = data)\n",
    "interesting_patient = patients.get_patient_by_id(\"595\")"
   ]
  },
  {
   "cell_type": "code",
   "execution_count": null,
   "metadata": {},
   "outputs": [],
   "source": [
    "# Get Abwasser Daten for Patient\n",
    "sewage_data = SewagedataDownloader()\n",
    "data = sewage_data.get_sewage_data_patient(start_date = START_DATE, end_date= END_DATE, patient = interesting_patient, virus_type = VIRUS_TYPE)"
   ]
  },
  {
   "cell_type": "code",
   "execution_count": null,
   "metadata": {},
   "outputs": [],
   "source": [
    "# data without missings\n",
    "data_ = data.dropna(subset=['viruslast']) # Drop rows with NaN values in the column\n",
    "get_sewagedata_timeline_plot(data = data_, column = 'viruslast')"
   ]
  },
  {
   "cell_type": "markdown",
   "metadata": {},
   "source": [
    "### 3) Use Case: Additional filtering - Filterung nach Normalisierung"
   ]
  },
  {
   "cell_type": "code",
   "execution_count": null,
   "metadata": {},
   "outputs": [],
   "source": [
    "START_DATE = input(\"Bitte geben Sie den Startzeitpunkt der Datenabfrage ein (Format: YYYY-MM-DD). Es sind nur Daten zwischen 01.06.2022 and 31.12.2024 verfügbar:  \")\n",
    "END_DATE = input(\"Bitte geben Sie den Endzeitpunkt der Datenabfrage ein (Format: YYYY-MM-DD). Es sind nur Daten zwischen 01.06.2022 and 31.12.2024 verfügbar: \")\n",
    "IS_NORMALIZED = input(\"Bitte geben Sie an ob die Werte normalisiert sein sollen. Optionen: ja oder nein\")"
   ]
  },
  {
   "cell_type": "code",
   "execution_count": null,
   "metadata": {},
   "outputs": [],
   "source": [
    "# Load Patient Data - test data\n",
    "with open(\"data/raw/2024-12-02_mii_testdaten_small.json\", 'r') as file:\n",
    "    data = json.load(file)"
   ]
  },
  {
   "cell_type": "code",
   "execution_count": null,
   "metadata": {},
   "outputs": [],
   "source": [
    "# Extract Patients from Data + select an interesting patient\n",
    "patients = PatientsDownload()\n",
    "patients.extract_patients(data = data)\n",
    "interesting_patient = patients.get_patient_by_id(\"595\")"
   ]
  },
  {
   "cell_type": "code",
   "execution_count": null,
   "metadata": {},
   "outputs": [],
   "source": [
    "# Get Abwasser Daten for Patient\n",
    "sewage_data = SewagedataDownloader()\n",
    "data = sewage_data.get_sewage_data_patient(start_date = START_DATE, end_date= END_DATE, patient = interesting_patient, is_normalsierung = IS_NORMALIZED)"
   ]
  },
  {
   "cell_type": "markdown",
   "metadata": {},
   "source": [
    "### 4) Use Case: Daten noch weiter verarbeiten (Mean / Median)"
   ]
  },
  {
   "cell_type": "code",
   "execution_count": null,
   "metadata": {},
   "outputs": [],
   "source": [
    "START_DATE = input(\"Bitte geben Sie den Startzeitpunkt der Datenabfrage ein (Format: YYYY-MM-DD). Es sind nur Daten zwischen 01.06.2022 and 31.12.2024 verfügbar:  \")\n",
    "END_DATE = input(\"Bitte geben Sie den Endzeitpunkt der Datenabfrage ein (Format: YYYY-MM-DD). Es sind nur Daten zwischen 01.06.2022 and 31.12.2024 verfügbar:  \")\n",
    "VIRUS_TYPE = input(\"Bitte geben Sie den Virus-Typ ein. Optionen sind: SARS-CoV-2, Influenza A, Influenza B oder Influenza A+B:\")"
   ]
  },
  {
   "cell_type": "code",
   "execution_count": null,
   "metadata": {},
   "outputs": [],
   "source": [
    "# Load Patient Data - test data\n",
    "with open(\"data/raw/2024-12-02_mii_testdaten_small.json\", 'r') as file:\n",
    "    data = json.load(file)"
   ]
  },
  {
   "cell_type": "code",
   "execution_count": null,
   "metadata": {},
   "outputs": [],
   "source": [
    "# Extract Patients from Data + select an interesting patient\n",
    "patients = PatientsDownload()\n",
    "patients.extract_patients(data = data)\n",
    "interesting_patient = patients.get_patient_by_id(\"595\")"
   ]
  },
  {
   "cell_type": "code",
   "execution_count": null,
   "metadata": {},
   "outputs": [],
   "source": [
    "# Get Abwasser Daten for Patient\n",
    "sewage_data = SewagedataDownloader()\n",
    "data = sewage_data.get_sewage_data_patient(start_date = START_DATE, end_date= END_DATE, patient = interesting_patient, virus_type = VIRUS_TYPE)"
   ]
  },
  {
   "cell_type": "code",
   "execution_count": null,
   "metadata": {},
   "outputs": [],
   "source": [
    "# apply mean to the data\n",
    "print(f\"Durchschnittlich gemessene Viruslast (mean) in Genkopien pro Liter für den Zeitraum {START_DATE} bis {END_DATE} für den Virus-Typ {VIRUS_TYPE}: {round(data['viruslast'].mean())} (gerundet)\")\n",
    "print(f\"Durchschnittlich vorhergesagte Viruslast (mean) in Genkopien pro Liter für den Zeitraum {START_DATE} bis {END_DATE} für den Virus-Typ {VIRUS_TYPE}: {round(data['loess_vorhersage'].mean())} (gerundet)\")"
   ]
  },
  {
   "cell_type": "code",
   "execution_count": null,
   "metadata": {},
   "outputs": [],
   "source": [
    "# apply median to the data\n",
    "print(f\"Durchschnittlich gemessene Viruslast (median) in Genkopien pro Liter für den Zeitraum {START_DATE} bis {END_DATE} für den Virus-Typ {VIRUS_TYPE}: {round(data['viruslast'].median())} (gerundet)\")\n",
    "print(f\"Durchschnittlich vorhergesagte Viruslast (median) in Genkopien pro Liter für den Zeitraum {START_DATE} bis {END_DATE} für den Virus-Typ {VIRUS_TYPE}: {round(data['loess_vorhersage'].median())} (gerundet)\")"
   ]
  },
  {
   "cell_type": "markdown",
   "metadata": {},
   "source": [
    "### 5) Use Case: Von einer Datei alle Patient:innen extrahieren und für einzelne Patient:innen Abwasserdaten anschauen - start_date und end_date werden nicht angegeben und automatisch berechnet"
   ]
  },
  {
   "cell_type": "code",
   "execution_count": null,
   "metadata": {},
   "outputs": [],
   "source": [
    "# Load Patient Data - test data\n",
    "with open(\"data/raw/2024-12-02_mii_testdaten_small.json\", 'r') as file:\n",
    "    data = json.load(file)"
   ]
  },
  {
   "cell_type": "code",
   "execution_count": null,
   "metadata": {},
   "outputs": [],
   "source": [
    "# Extract Patients from Data + select an interesting patient\n",
    "patients = PatientsDownload()\n",
    "patients.extract_patients(data = data)\n",
    "interesting_patient = patients.get_patient_by_id(\"595\")"
   ]
  },
  {
   "cell_type": "code",
   "execution_count": null,
   "metadata": {},
   "outputs": [],
   "source": [
    "# Get Abwasser Daten for Patient\n",
    "sewage_data = SewagedataDownloader()\n",
    "data = sewage_data.get_sewage_data_patient(patient = interesting_patient, start_date = None, end_date = None)"
   ]
  },
  {
   "cell_type": "code",
   "execution_count": null,
   "metadata": {},
   "outputs": [],
   "source": [
    "print(f\"Da kein Start- und Enddatum angegeben wurde, werden Daten 3 Monate vor- und nach des Diagnose-Datums bereitgestellt (Zeitraum: {data['datum'].min().strftime('%Y-%m-%d')} - {data['datum'].max().strftime('%Y-%m-%d')})\")"
   ]
  },
  {
   "cell_type": "markdown",
   "metadata": {},
   "source": [
    "### 6) Use Case: über mehrere Patient:innen loopen und einen Datensatz für alle"
   ]
  },
  {
   "cell_type": "code",
   "execution_count": null,
   "metadata": {},
   "outputs": [],
   "source": [
    "# INPUT from the User Interface \n",
    "START_DATE = input(\"Bitte geben Sie den Startzeitpunkt der Datenabfrage ein (Format: YYYY-MM-DD). Es sind nur Daten zwischen 01.06.2022 and 31.12.2024 verfügbar:  \")\n",
    "END_DATE = input(\"Bitte geben Sie den Endzeitpunkt der Datenabfrage ein (Format: YYYY-MM-DD). Es sind nur Daten zwischen 01.06.2022 and 31.12.2024 verfügbar:  \")"
   ]
  },
  {
   "cell_type": "code",
   "execution_count": null,
   "metadata": {},
   "outputs": [],
   "source": [
    "# Load Patient Data - test data\n",
    "with open(\"data/raw/2024-12-02_mii_testdaten_large.json\", 'r') as file:\n",
    "    data = json.load(file)"
   ]
  },
  {
   "cell_type": "code",
   "execution_count": null,
   "metadata": {},
   "outputs": [],
   "source": [
    "# Extract Patients from Data + select an interesting patient\n",
    "patients = PatientsDownload()\n",
    "patients.extract_patients(data = data)\n",
    "\n",
    "sewage_data = SewagedataDownloader()\n",
    "return_data = sewage_data.get_sewage_data_patient_collection(patients= patients.patients, start_date = START_DATE, end_date = END_DATE)"
   ]
  },
  {
   "cell_type": "code",
   "execution_count": null,
   "metadata": {},
   "outputs": [],
   "source": [
    "return_data.head()"
   ]
  },
  {
   "cell_type": "code",
   "execution_count": null,
   "metadata": {},
   "outputs": [],
   "source": [
    "# simple table to show how many patient are in which standort\n",
    "return_data_deduplicated = return_data.drop_duplicates(subset=['standort', 'patient_id'])\n",
    "grouped = return_data_deduplicated.groupby('standort')['patient_id'].count().reset_index()\n",
    "grouped.columns = ['standort', 'num_patients']\n",
    "\n",
    "print(grouped)"
   ]
  },
  {
   "cell_type": "markdown",
   "metadata": {},
   "source": [
    "### 7) Use Case: Über mehrere Patient:innen loopen ohne Start- oder Enddatum"
   ]
  },
  {
   "cell_type": "code",
   "execution_count": null,
   "metadata": {},
   "outputs": [],
   "source": [
    "# Load Patient Data - test data\n",
    "with open(\"data/raw/2024-12-02_mii_testdaten_large.json\", 'r') as file:\n",
    "    data = json.load(file)"
   ]
  },
  {
   "cell_type": "code",
   "execution_count": null,
   "metadata": {},
   "outputs": [],
   "source": [
    "# Extract Patients from Data + select an interesting patient\n",
    "patients = PatientsDownload()\n",
    "patients.extract_patients(data = data)\n",
    "\n",
    "sewage_data = SewagedataDownloader()\n",
    "return_data = sewage_data.get_sewage_data_patient_collection(patients= patients.patients, start_date = None, end_date = None)"
   ]
  }
 ],
 "metadata": {
  "kernelspec": {
   "display_name": "post-covid-metadatenkatalog-f61elZdN-py3.11",
   "language": "python",
   "name": "python3"
  },
  "language_info": {
   "codemirror_mode": {
    "name": "ipython",
    "version": 3
   },
   "file_extension": ".py",
   "mimetype": "text/x-python",
   "name": "python",
   "nbconvert_exporter": "python",
   "pygments_lexer": "ipython3",
   "version": "3.11.6"
  }
 },
 "nbformat": 4,
 "nbformat_minor": 2
}
